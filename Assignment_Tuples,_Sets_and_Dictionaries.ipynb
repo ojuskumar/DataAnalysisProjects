{
  "nbformat": 4,
  "nbformat_minor": 0,
  "metadata": {
    "kernelspec": {
      "display_name": "Python 3",
      "language": "python",
      "name": "python3"
    },
    "language_info": {
      "codemirror_mode": {
        "name": "ipython",
        "version": 3
      },
      "file_extension": ".py",
      "mimetype": "text/x-python",
      "name": "python",
      "nbconvert_exporter": "python",
      "pygments_lexer": "ipython3",
      "version": "3.7.4"
    },
    "colab": {
      "provenance": [],
      "collapsed_sections": [],
      "include_colab_link": true
    }
  },
  "cells": [
    {
      "cell_type": "markdown",
      "metadata": {
        "id": "view-in-github",
        "colab_type": "text"
      },
      "source": [
        "<a href=\"https://colab.research.google.com/github/ojuskumar/DataAnalysisProjects/blob/master/Assignment_Tuples%2C_Sets_and_Dictionaries.ipynb\" target=\"_parent\"><img src=\"https://colab.research.google.com/assets/colab-badge.svg\" alt=\"Open In Colab\"/></a>"
      ]
    },
    {
      "cell_type": "markdown",
      "metadata": {
        "id": "8WbUJEVzs8Bx"
      },
      "source": [
        "## <u>While doing this assignment only use those concepts which have been taught till now</u>"
      ]
    },
    {
      "cell_type": "markdown",
      "metadata": {
        "id": "KjPWYK0Rs8By"
      },
      "source": [
        "## <u>Problem 1</u>\n",
        "\n",
        "### Another measure of average\n",
        "\n",
        "* Mode is defined as the value that appears most often in a set of data values. Mode corresponds to the most frequent value.\n",
        "* You are given a list of numbers and you need to calculate the mode of this list"
      ]
    },
    {
      "cell_type": "code",
      "metadata": {
        "id": "34TbaGurs8Bz"
      },
      "source": [
        "# A list containing average daily temperature over 10 days\n",
        "temperatures = [34, 40, 29, 33, 42, 40, 39, 34, 34,33 ]"
      ],
      "execution_count": 3,
      "outputs": []
    },
    {
      "cell_type": "code",
      "metadata": {
        "id": "N1Yhpkiws8B3"
      },
      "source": [
        "# Step 1 : Find the unique set of values. Store this in a list\n",
        "unique_temperatures =  set(temperatures)\n",
        "ut=list(unique_temperatures)"
      ],
      "execution_count": 5,
      "outputs": []
    },
    {
      "cell_type": "code",
      "metadata": {
        "id": "KpMdlB5Fs8B8",
        "outputId": "24b98da7-d39a-4e01-ee74-6de95ca22253",
        "colab": {
          "base_uri": "https://localhost:8080/"
        }
      },
      "source": [
        "# Print the unique temperature list\n",
        "ut"
      ],
      "execution_count": 6,
      "outputs": [
        {
          "output_type": "execute_result",
          "data": {
            "text/plain": [
              "[33, 34, 39, 40, 42, 29]"
            ]
          },
          "metadata": {},
          "execution_count": 6
        }
      ]
    },
    {
      "cell_type": "code",
      "metadata": {
        "id": "J7CyJi_Ls8B_",
        "outputId": "7fadcefd-2c54-4334-ed82-15c166433c49",
        "colab": {
          "base_uri": "https://localhost:8080/"
        }
      },
      "source": [
        "# Step 2 : Create an empty dictionary which will contain the unique temperatures as keys and their counts in the original temperatures list as values\n",
        "temp_dict = {}\n",
        "\n",
        "# Set the values for each key separately\n",
        "# First key\n",
        "temp_dict= {ut[0]:temperatures.count(ut[0])}\n",
        "\n",
        "\n",
        "\n",
        "# Second key\n",
        "\n",
        "temp_dict.update({ut[1]:temperatures.count(ut[1])})\n",
        "\n",
        "# Third key\n",
        "\n",
        "temp_dict.update({ut[2]:temperatures.count(ut[2])} )\n",
        "\n",
        "# Fourth key\n",
        "\n",
        "temp_dict.update({ut[3]:temperatures.count(ut[3])} )\n",
        "\n",
        "\n",
        "# Fifth key\n",
        "\n",
        "temp_dict.update({ut[4]:temperatures.count(ut[4])} )\n",
        "\n",
        "# Sixth key\n",
        "temp_dict.update({ut[5]:temperatures.count(ut[5])} )\n",
        "temp_dict\n"
      ],
      "execution_count": 16,
      "outputs": [
        {
          "output_type": "execute_result",
          "data": {
            "text/plain": [
              "{33: 2, 34: 3, 39: 1, 40: 2, 42: 1, 29: 1}"
            ]
          },
          "metadata": {},
          "execution_count": 16
        }
      ]
    },
    {
      "cell_type": "code",
      "metadata": {
        "id": "4-ZxbmMxtWfQ",
        "outputId": "91410cfb-636d-4ce0-da07-ad25132e44f9",
        "colab": {
          "base_uri": "https://localhost:8080/"
        }
      },
      "source": [
        "# Step 3: Store the dictionary values in a list\n",
        "temp_dict_frequencies = list(temp_dict.values())\n",
        "\n",
        "# Print the list of dictionary values\n",
        "print(temp_dict_frequencies)\n",
        "\n",
        "# Find the index of the most frequent temperature value\n",
        "max_count=max(temp_dict_frequencies)\n",
        "most_frequent_temp_index = temp_dict_frequencies.index(max_count)\n",
        "\n",
        "# Print the index\n",
        "print(most_frequent_temp_index)\n"
      ],
      "execution_count": 17,
      "outputs": [
        {
          "output_type": "stream",
          "name": "stdout",
          "text": [
            "[2, 3, 1, 2, 1, 1]\n",
            "1\n"
          ]
        }
      ]
    },
    {
      "cell_type": "code",
      "metadata": {
        "id": "riu9mZhcwBY6",
        "outputId": "88d5cccb-74b8-4f13-c78e-bae3c33a3cce",
        "colab": {
          "base_uri": "https://localhost:8080/"
        }
      },
      "source": [
        "# Step 4 : Create the list of dictionary keys\n",
        "temp_dict_keys = list(temp_dict.keys())\n",
        "\n",
        "# Print the list of dictionary keys\n",
        "print(temp_dict_keys)\n",
        "\n",
        "# Calculate the mode temperature\n",
        "mode_temp = temp_dict_keys[most_frequent_temp_index]\n",
        "print(mode_temp)"
      ],
      "execution_count": 20,
      "outputs": [
        {
          "output_type": "stream",
          "name": "stdout",
          "text": [
            "[33, 34, 39, 40, 42, 29]\n",
            "34\n"
          ]
        }
      ]
    },
    {
      "cell_type": "markdown",
      "metadata": {
        "id": "5qd8g8UUs8CM"
      },
      "source": [
        "## <u>Problem 2 </u>\n",
        "\n",
        "### Challenging the immutability of tuples\n",
        "\n",
        "You are given a list of tuples. You need to replace the last element of the last tuple"
      ]
    },
    {
      "cell_type": "code",
      "metadata": {
        "id": "FBJy9Sq_s8CN"
      },
      "source": [
        "# Input list of tuples\n",
        "\n",
        "list_of_tuples = [(10,20,30),(30,40,50),(50,60,70)]\n",
        "\n",
        "\n",
        "# Expected output : Replace the last element 70 with 100\n",
        "# output_list = [(10,20,30),(30,40,50),(50,60,100)]"
      ],
      "execution_count": 21,
      "outputs": []
    },
    {
      "cell_type": "code",
      "metadata": {
        "id": "UNtYax1as8CR",
        "outputId": "6b8d98bb-b481-4b2a-cae4-2c23f1b94569",
        "colab": {
          "base_uri": "https://localhost:8080/"
        }
      },
      "source": [
        "# Your code here \n",
        "\n",
        "lt=list_of_tuples[:-1]+[list_of_tuples[2][:-1]+(100,)]\n",
        "\n",
        "\n",
        "\n",
        "# Print the output list\n",
        "lt"
      ],
      "execution_count": 22,
      "outputs": [
        {
          "output_type": "execute_result",
          "data": {
            "text/plain": [
              "[(10, 20, 30), (30, 40, 50), (50, 60, 100)]"
            ]
          },
          "metadata": {},
          "execution_count": 22
        }
      ]
    },
    {
      "cell_type": "markdown",
      "metadata": {
        "id": "ejRCi-vTs8CU"
      },
      "source": [
        "## <u> Problem 3 </u>\n",
        "\n",
        "Natural Language Processing or NLP is one of the most promising fields in Machine Learning. Most of the times in NLP we deal with the textual data (a bunch of strings). Sometimes when we are processing the text, it is a common practice to get rid of some set of stop words from our original text. By default stop words are very common words used in English language such as and, or, punctuations etc.\n",
        "\n",
        "In this exercise, you are provided with a default set of stop words and you need to add some extra set of custom words."
      ]
    },
    {
      "cell_type": "code",
      "metadata": {
        "id": "C5olNuDGs8CU",
        "outputId": "f801d6a7-64fd-4c4d-8ad2-1d76bb5b80f6",
        "colab": {
          "base_uri": "https://localhost:8080/"
        }
      },
      "source": [
        "# A sample sentence \n",
        "\n",
        "sentence = 'Hello, good morning folks! Today we will announce the half yearly performance results of the company. Due to the ongoing COVID-19 pandemic, our profits have declined by 60% as compared to the last half yearly results'\n",
        "\n",
        "# Print your sentence\n",
        "print(sentence)\n"
      ],
      "execution_count": 24,
      "outputs": [
        {
          "output_type": "stream",
          "name": "stdout",
          "text": [
            "Hello, good morning folks! Today we will announce the half yearly performance results of the company. Due to the ongoing COVID-19 pandemic, our profits have declined by 60% as compared to the last half yearly results\n"
          ]
        }
      ]
    },
    {
      "cell_type": "code",
      "metadata": {
        "id": "B4afm8gCs8CY"
      },
      "source": [
        "# Default set of stop words \n",
        "stop_words = {\"i\", \"me\", \"my\", \"myself\", \"we\", \"our\", \"ours\", \"ourselves\", \"you\", \"your\", \"yours\", \"yourself\", \n",
        "              \"yourselves\", \"he\", \"him\", \"his\", \"himself\", \"she\", \"her\", \"hers\", \"herself\", \"it\", \"its\", \"itself\",\n",
        "              \"they\", \"them\", \"their\", \"theirs\", \"themselves\", \"what\", \"which\", \"who\", \"whom\", \"this\", \"that\",\n",
        "              \"these\", \"those\", \"am\", \"is\", \"are\", \"was\", \"were\", \"be\", \"been\", \"being\", \"have\", \"has\", \"had\",\n",
        "              \"having\", \"do\", \"does\", \"did\", \"doing\", \"a\", \"an\", \"the\", \"and\", \"but\", \"if\", \"or\", \"because\",\n",
        "              \"as\", \"until\", \"while\", \"of\", \"at\", \"by\", \"for\", \"with\", \"about\", \"against\", \"between\", \"into\",\n",
        "              \"through\", \"during\", \"before\", \"after\", \"above\", \"below\", \"to\", \"from\", \"up\", \"down\", \"in\", \"out\", \n",
        "              \"on\", \"off\", \"over\", \"under\", \"again\", \"further\", \"then\", \"once\", \"here\", \"there\", \"when\", \"where\",\n",
        "              \"why\", \"how\", \"all\", \"any\", \"both\", \"each\", \"few\", \"more\", \"most\", \"other\", \"some\", \"such\", \"no\",\n",
        "              \"nor\", \"not\", \"only\", \"own\", \"same\", \"so\", \"than\", \"too\", \"very\", \"s\", \"t\", \"can\", \"will\", \"just\",\n",
        "              \"don\", \"should\", \"now\"}\n"
      ],
      "execution_count": 25,
      "outputs": []
    },
    {
      "cell_type": "code",
      "metadata": {
        "id": "evgHHnRks8Cc",
        "outputId": "0009e8da-477b-4353-e1b1-72528437644a",
        "colab": {
          "base_uri": "https://localhost:8080/"
        }
      },
      "source": [
        "# Update the set of stop words by adding the custom stop words\n",
        "custom_stop_words = [\"hello\",\"good\",\"morning\",\"half\",\"yearly\"]\n",
        "\n",
        "# Your code here\n",
        "stop_words.update(custom_stop_words)\n",
        "\n",
        "# Print the updated stop words\n",
        "print(stop_words)\n"
      ],
      "execution_count": 27,
      "outputs": [
        {
          "output_type": "stream",
          "name": "stdout",
          "text": [
            "{'yearly', 'whom', 'our', 'if', 'doing', 'myself', 'further', 'your', 'such', 'over', 'which', 'how', 'with', 'own', 'too', 'why', 'it', 'what', 'before', 'she', 'we', 'this', 'so', 'again', 'to', 'having', 'me', 'until', 'my', 'out', 'yourself', 'were', 'between', 't', 'does', 'but', 'good', 'after', 'can', 'here', 'hers', 's', 'itself', 'now', 'all', 'i', 'their', 'then', 'some', 'no', 'half', 'as', 'other', 'do', 'not', 'few', 'through', 'himself', 'on', 'while', 'is', 'for', 'against', 'any', 'have', 'did', 'be', 'both', 'very', 'same', 'only', 'theirs', 'a', 'her', 'below', 'will', 'who', 'been', 'into', 'these', 'or', 'off', 'hello', 'there', 'you', 'above', 'down', 'because', 'has', 'are', 'should', 'ourselves', 'yourselves', 'ours', 'he', 'where', 'of', 'most', 'up', 'yours', 'they', 'being', 'in', 'than', 'during', 'once', 'the', 'under', 'at', 'just', 'its', 'an', 'more', 'by', 'herself', 'about', 'morning', 'had', 'those', 'and', 'his', 'am', 'when', 'him', 'them', 'from', 'each', 'themselves', 'don', 'that', 'nor', 'was'}\n"
          ]
        }
      ]
    },
    {
      "cell_type": "code",
      "metadata": {
        "id": "1QbZrotrtIE3",
        "outputId": "f6f2635f-af7f-4df4-8752-a7d81c565e4d",
        "colab": {
          "base_uri": "https://localhost:8080/"
        }
      },
      "source": [
        "# Do the same task another way. Keep in mind to use the original set of stop_words for this piece of code\n",
        "up=list(stop_words)+custom_stop_words\n",
        "\n",
        "\n",
        "# Print the updated stop words\n",
        "print(up)"
      ],
      "execution_count": 28,
      "outputs": [
        {
          "output_type": "stream",
          "name": "stdout",
          "text": [
            "['yearly', 'whom', 'our', 'if', 'doing', 'myself', 'further', 'your', 'such', 'over', 'which', 'how', 'with', 'own', 'too', 'why', 'it', 'what', 'before', 'she', 'we', 'this', 'so', 'again', 'to', 'having', 'me', 'until', 'my', 'out', 'yourself', 'were', 'between', 't', 'does', 'but', 'good', 'after', 'can', 'here', 'hers', 's', 'itself', 'now', 'all', 'i', 'their', 'then', 'some', 'no', 'half', 'as', 'other', 'do', 'not', 'few', 'through', 'himself', 'on', 'while', 'is', 'for', 'against', 'any', 'have', 'did', 'be', 'both', 'very', 'same', 'only', 'theirs', 'a', 'her', 'below', 'will', 'who', 'been', 'into', 'these', 'or', 'off', 'hello', 'there', 'you', 'above', 'down', 'because', 'has', 'are', 'should', 'ourselves', 'yourselves', 'ours', 'he', 'where', 'of', 'most', 'up', 'yours', 'they', 'being', 'in', 'than', 'during', 'once', 'the', 'under', 'at', 'just', 'its', 'an', 'more', 'by', 'herself', 'about', 'morning', 'had', 'those', 'and', 'his', 'am', 'when', 'him', 'them', 'from', 'each', 'themselves', 'don', 'that', 'nor', 'was', 'hello', 'good', 'morning', 'half', 'yearly']\n"
          ]
        }
      ]
    },
    {
      "cell_type": "markdown",
      "metadata": {
        "id": "P1rOYC8Is8Cf"
      },
      "source": [
        "## <u>Problem 4</u>\n",
        "\n",
        " Write a Python script to check whether a given key already exists in a dictionary. If it does, drop that key from the dictionary. If it does not, add that key and corresponding value to the dictionary"
      ]
    },
    {
      "cell_type": "code",
      "metadata": {
        "id": "ySeGyCtCs8Cg"
      },
      "source": [
        "# Your dictionary\n",
        "employee_dict = {'Name':'Sanket','Skills':['Python','Machine Learning','Deep Learning'],'Band':6.0,\n",
        "                 'Promotion Year':[2016,2018,2020]}"
      ],
      "execution_count": null,
      "outputs": []
    },
    {
      "cell_type": "code",
      "metadata": {
        "id": "MI7mOHaqs8Cj"
      },
      "source": [
        "# Check if the key 'Employee_ID' is present in the dictionary. Hint : use a boolean variable to store this value\n",
        "\n",
        "\n",
        "# If not present add this key to this dictionary and the corresponding value to be 4503233\n"
      ],
      "execution_count": null,
      "outputs": []
    },
    {
      "cell_type": "code",
      "metadata": {
        "id": "ARPbZfY8s8Co"
      },
      "source": [
        "# Check if the key 'Band' is present in the dictionary.\n",
        "\n",
        "\n",
        "# If present, drop this key from the dictionary\n"
      ],
      "execution_count": null,
      "outputs": []
    },
    {
      "cell_type": "code",
      "metadata": {
        "id": "lUDbbyXmulzh"
      },
      "source": [
        "# Print the updated dictionary\n"
      ],
      "execution_count": null,
      "outputs": []
    }
  ]
}